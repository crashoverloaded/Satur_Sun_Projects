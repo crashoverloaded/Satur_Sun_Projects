{
 "cells": [
  {
   "cell_type": "code",
   "execution_count": 1,
   "metadata": {},
   "outputs": [],
   "source": [
    "#import the socket library\n",
    "import socket\n",
    "import sys"
   ]
  },
  {
   "cell_type": "code",
   "execution_count": 2,
   "metadata": {},
   "outputs": [
    {
     "name": "stdout",
     "output_type": "stream",
     "text": [
      "socket successfully created\n"
     ]
    }
   ],
   "source": [
    "# first creat a socket node object\n",
    "s = socket.socket(socket.AF_INET,socket.SOCK_STREAM)\n",
    "print(\"socket successfully created\")\n"
   ]
  },
  {
   "cell_type": "code",
   "execution_count": 3,
   "metadata": {},
   "outputs": [],
   "source": [
    "# assigning a port for server\n",
    "# port no that you want\n",
    "port=12345"
   ]
  },
  {
   "cell_type": "code",
   "execution_count": 4,
   "metadata": {},
   "outputs": [
    {
     "name": "stdout",
     "output_type": "stream",
     "text": [
      "socket bined successfully\n"
     ]
    }
   ],
   "source": [
    "# now bind the socket to ip and port \n",
    "s.bind((socket.gethostname(),port))\n",
    "print(\"socket bined successfully\")"
   ]
  },
  {
   "cell_type": "code",
   "execution_count": null,
   "metadata": {},
   "outputs": [
    {
     "name": "stdout",
     "output_type": "stream",
     "text": [
      "listining successfully\n"
     ]
    }
   ],
   "source": [
    "# now ready to socket for listen\n",
    "# 5=== means clients can wait for connection with server\n",
    "# if 6th client comes for connection then server refused\n",
    "s.listen(5)\n",
    "print(\"listining successfully\")"
   ]
  },
  {
   "cell_type": "code",
   "execution_count": null,
   "metadata": {},
   "outputs": [
    {
     "name": "stdout",
     "output_type": "stream",
     "text": [
      "got connection from addr (('192.168.56.1', 63186), <socket.socket fd=1120, family=AddressFamily.AF_INET, type=SocketKind.SOCK_STREAM, proto=0, laddr=('192.168.56.1', 12345), raddr=('192.168.56.1', 63186)>) \n"
     ]
    }
   ],
   "source": [
    "# run a infinite loop \n",
    "# when an error occured it stopes\n",
    "while True:\n",
    "    clientsocket,addr=s.accept()\n",
    "    print(f\"got connection from addr {addr,clientsocket} \") \n",
    "    clientsocket.send(bytes(\"thank you for connecting\",\"utf-8\"))\n",
    "    clientsocket.close()"
   ]
  },
  {
   "cell_type": "code",
   "execution_count": null,
   "metadata": {},
   "outputs": [],
   "source": []
  },
  {
   "cell_type": "code",
   "execution_count": null,
   "metadata": {},
   "outputs": [],
   "source": []
  },
  {
   "cell_type": "code",
   "execution_count": null,
   "metadata": {},
   "outputs": [],
   "source": []
  }
 ],
 "metadata": {
  "kernelspec": {
   "display_name": "Python 3",
   "language": "python",
   "name": "python3"
  },
  "language_info": {
   "codemirror_mode": {
    "name": "ipython",
    "version": 3
   },
   "file_extension": ".py",
   "mimetype": "text/x-python",
   "name": "python",
   "nbconvert_exporter": "python",
   "pygments_lexer": "ipython3",
   "version": "3.7.1"
  }
 },
 "nbformat": 4,
 "nbformat_minor": 2
}
